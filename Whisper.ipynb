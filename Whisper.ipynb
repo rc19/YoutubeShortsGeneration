{
  "nbformat": 4,
  "nbformat_minor": 0,
  "metadata": {
    "colab": {
      "provenance": [],
      "collapsed_sections": [
        "hR1jTEQsa3tV",
        "Ol0BhivJa0WA",
        "-sIIfpeybDU7",
        "FMQOXyvzbNCi",
        "lxZh5SvzbRUn",
        "THUSW8KsbV_8"
      ]
    },
    "kernelspec": {
      "name": "python3",
      "display_name": "Python 3"
    },
    "language_info": {
      "name": "python"
    },
    "accelerator": "GPU",
    "gpuClass": "standard",
    "widgets": {
      "application/vnd.jupyter.widget-state+json": {
        "3940d88eee9f4cbd9ec1faaaefeca0c6": {
          "model_module": "@jupyter-widgets/controls",
          "model_name": "HBoxModel",
          "model_module_version": "1.5.0",
          "state": {
            "_dom_classes": [],
            "_model_module": "@jupyter-widgets/controls",
            "_model_module_version": "1.5.0",
            "_model_name": "HBoxModel",
            "_view_count": null,
            "_view_module": "@jupyter-widgets/controls",
            "_view_module_version": "1.5.0",
            "_view_name": "HBoxView",
            "box_style": "",
            "children": [
              "IPY_MODEL_53128e2d08714192b0b36e949c25f4c3",
              "IPY_MODEL_7131c4db7741449e877ce9ce61399bc7",
              "IPY_MODEL_964f827bef9c4d4a9edd5b915818bad6"
            ],
            "layout": "IPY_MODEL_87b4d308740a45d3a3ab177e0cd33c7a"
          }
        },
        "53128e2d08714192b0b36e949c25f4c3": {
          "model_module": "@jupyter-widgets/controls",
          "model_name": "HTMLModel",
          "model_module_version": "1.5.0",
          "state": {
            "_dom_classes": [],
            "_model_module": "@jupyter-widgets/controls",
            "_model_module_version": "1.5.0",
            "_model_name": "HTMLModel",
            "_view_count": null,
            "_view_module": "@jupyter-widgets/controls",
            "_view_module_version": "1.5.0",
            "_view_name": "HTMLView",
            "description": "",
            "description_tooltip": null,
            "layout": "IPY_MODEL_4ed2904b8e7745b080685ab47fa5e04d",
            "placeholder": "​",
            "style": "IPY_MODEL_0e52ebfd0e174787b54402985503aa79",
            "value": "100%"
          }
        },
        "7131c4db7741449e877ce9ce61399bc7": {
          "model_module": "@jupyter-widgets/controls",
          "model_name": "FloatProgressModel",
          "model_module_version": "1.5.0",
          "state": {
            "_dom_classes": [],
            "_model_module": "@jupyter-widgets/controls",
            "_model_module_version": "1.5.0",
            "_model_name": "FloatProgressModel",
            "_view_count": null,
            "_view_module": "@jupyter-widgets/controls",
            "_view_module_version": "1.5.0",
            "_view_name": "ProgressView",
            "bar_style": "success",
            "description": "",
            "description_tooltip": null,
            "layout": "IPY_MODEL_0ba0e673d8744f249f05c8df1434d4e6",
            "max": 1,
            "min": 0,
            "orientation": "horizontal",
            "style": "IPY_MODEL_ba53522289cd49d98a43c83f160a9929",
            "value": 1
          }
        },
        "964f827bef9c4d4a9edd5b915818bad6": {
          "model_module": "@jupyter-widgets/controls",
          "model_name": "HTMLModel",
          "model_module_version": "1.5.0",
          "state": {
            "_dom_classes": [],
            "_model_module": "@jupyter-widgets/controls",
            "_model_module_version": "1.5.0",
            "_model_name": "HTMLModel",
            "_view_count": null,
            "_view_module": "@jupyter-widgets/controls",
            "_view_module_version": "1.5.0",
            "_view_name": "HTMLView",
            "description": "",
            "description_tooltip": null,
            "layout": "IPY_MODEL_77fc838427c84414958d79b092530ba4",
            "placeholder": "​",
            "style": "IPY_MODEL_9edd8782b02f467793015381cf15e09f",
            "value": " 1/1 [35:00&lt;00:00, 2100.52s/it]"
          }
        },
        "87b4d308740a45d3a3ab177e0cd33c7a": {
          "model_module": "@jupyter-widgets/base",
          "model_name": "LayoutModel",
          "model_module_version": "1.2.0",
          "state": {
            "_model_module": "@jupyter-widgets/base",
            "_model_module_version": "1.2.0",
            "_model_name": "LayoutModel",
            "_view_count": null,
            "_view_module": "@jupyter-widgets/base",
            "_view_module_version": "1.2.0",
            "_view_name": "LayoutView",
            "align_content": null,
            "align_items": null,
            "align_self": null,
            "border": null,
            "bottom": null,
            "display": null,
            "flex": null,
            "flex_flow": null,
            "grid_area": null,
            "grid_auto_columns": null,
            "grid_auto_flow": null,
            "grid_auto_rows": null,
            "grid_column": null,
            "grid_gap": null,
            "grid_row": null,
            "grid_template_areas": null,
            "grid_template_columns": null,
            "grid_template_rows": null,
            "height": null,
            "justify_content": null,
            "justify_items": null,
            "left": null,
            "margin": null,
            "max_height": null,
            "max_width": null,
            "min_height": null,
            "min_width": null,
            "object_fit": null,
            "object_position": null,
            "order": null,
            "overflow": null,
            "overflow_x": null,
            "overflow_y": null,
            "padding": null,
            "right": null,
            "top": null,
            "visibility": null,
            "width": null
          }
        },
        "4ed2904b8e7745b080685ab47fa5e04d": {
          "model_module": "@jupyter-widgets/base",
          "model_name": "LayoutModel",
          "model_module_version": "1.2.0",
          "state": {
            "_model_module": "@jupyter-widgets/base",
            "_model_module_version": "1.2.0",
            "_model_name": "LayoutModel",
            "_view_count": null,
            "_view_module": "@jupyter-widgets/base",
            "_view_module_version": "1.2.0",
            "_view_name": "LayoutView",
            "align_content": null,
            "align_items": null,
            "align_self": null,
            "border": null,
            "bottom": null,
            "display": null,
            "flex": null,
            "flex_flow": null,
            "grid_area": null,
            "grid_auto_columns": null,
            "grid_auto_flow": null,
            "grid_auto_rows": null,
            "grid_column": null,
            "grid_gap": null,
            "grid_row": null,
            "grid_template_areas": null,
            "grid_template_columns": null,
            "grid_template_rows": null,
            "height": null,
            "justify_content": null,
            "justify_items": null,
            "left": null,
            "margin": null,
            "max_height": null,
            "max_width": null,
            "min_height": null,
            "min_width": null,
            "object_fit": null,
            "object_position": null,
            "order": null,
            "overflow": null,
            "overflow_x": null,
            "overflow_y": null,
            "padding": null,
            "right": null,
            "top": null,
            "visibility": null,
            "width": null
          }
        },
        "0e52ebfd0e174787b54402985503aa79": {
          "model_module": "@jupyter-widgets/controls",
          "model_name": "DescriptionStyleModel",
          "model_module_version": "1.5.0",
          "state": {
            "_model_module": "@jupyter-widgets/controls",
            "_model_module_version": "1.5.0",
            "_model_name": "DescriptionStyleModel",
            "_view_count": null,
            "_view_module": "@jupyter-widgets/base",
            "_view_module_version": "1.2.0",
            "_view_name": "StyleView",
            "description_width": ""
          }
        },
        "0ba0e673d8744f249f05c8df1434d4e6": {
          "model_module": "@jupyter-widgets/base",
          "model_name": "LayoutModel",
          "model_module_version": "1.2.0",
          "state": {
            "_model_module": "@jupyter-widgets/base",
            "_model_module_version": "1.2.0",
            "_model_name": "LayoutModel",
            "_view_count": null,
            "_view_module": "@jupyter-widgets/base",
            "_view_module_version": "1.2.0",
            "_view_name": "LayoutView",
            "align_content": null,
            "align_items": null,
            "align_self": null,
            "border": null,
            "bottom": null,
            "display": null,
            "flex": null,
            "flex_flow": null,
            "grid_area": null,
            "grid_auto_columns": null,
            "grid_auto_flow": null,
            "grid_auto_rows": null,
            "grid_column": null,
            "grid_gap": null,
            "grid_row": null,
            "grid_template_areas": null,
            "grid_template_columns": null,
            "grid_template_rows": null,
            "height": null,
            "justify_content": null,
            "justify_items": null,
            "left": null,
            "margin": null,
            "max_height": null,
            "max_width": null,
            "min_height": null,
            "min_width": null,
            "object_fit": null,
            "object_position": null,
            "order": null,
            "overflow": null,
            "overflow_x": null,
            "overflow_y": null,
            "padding": null,
            "right": null,
            "top": null,
            "visibility": null,
            "width": null
          }
        },
        "ba53522289cd49d98a43c83f160a9929": {
          "model_module": "@jupyter-widgets/controls",
          "model_name": "ProgressStyleModel",
          "model_module_version": "1.5.0",
          "state": {
            "_model_module": "@jupyter-widgets/controls",
            "_model_module_version": "1.5.0",
            "_model_name": "ProgressStyleModel",
            "_view_count": null,
            "_view_module": "@jupyter-widgets/base",
            "_view_module_version": "1.2.0",
            "_view_name": "StyleView",
            "bar_color": null,
            "description_width": ""
          }
        },
        "77fc838427c84414958d79b092530ba4": {
          "model_module": "@jupyter-widgets/base",
          "model_name": "LayoutModel",
          "model_module_version": "1.2.0",
          "state": {
            "_model_module": "@jupyter-widgets/base",
            "_model_module_version": "1.2.0",
            "_model_name": "LayoutModel",
            "_view_count": null,
            "_view_module": "@jupyter-widgets/base",
            "_view_module_version": "1.2.0",
            "_view_name": "LayoutView",
            "align_content": null,
            "align_items": null,
            "align_self": null,
            "border": null,
            "bottom": null,
            "display": null,
            "flex": null,
            "flex_flow": null,
            "grid_area": null,
            "grid_auto_columns": null,
            "grid_auto_flow": null,
            "grid_auto_rows": null,
            "grid_column": null,
            "grid_gap": null,
            "grid_row": null,
            "grid_template_areas": null,
            "grid_template_columns": null,
            "grid_template_rows": null,
            "height": null,
            "justify_content": null,
            "justify_items": null,
            "left": null,
            "margin": null,
            "max_height": null,
            "max_width": null,
            "min_height": null,
            "min_width": null,
            "object_fit": null,
            "object_position": null,
            "order": null,
            "overflow": null,
            "overflow_x": null,
            "overflow_y": null,
            "padding": null,
            "right": null,
            "top": null,
            "visibility": null,
            "width": null
          }
        },
        "9edd8782b02f467793015381cf15e09f": {
          "model_module": "@jupyter-widgets/controls",
          "model_name": "DescriptionStyleModel",
          "model_module_version": "1.5.0",
          "state": {
            "_model_module": "@jupyter-widgets/controls",
            "_model_module_version": "1.5.0",
            "_model_name": "DescriptionStyleModel",
            "_view_count": null,
            "_view_module": "@jupyter-widgets/base",
            "_view_module_version": "1.2.0",
            "_view_name": "StyleView",
            "description_width": ""
          }
        }
      }
    }
  },
  "cells": [
    {
      "cell_type": "markdown",
      "source": [
        "## Install dependencies and Setup"
      ],
      "metadata": {
        "id": "hR1jTEQsa3tV"
      }
    },
    {
      "cell_type": "code",
      "execution_count": null,
      "metadata": {
        "colab": {
          "base_uri": "https://localhost:8080/"
        },
        "id": "n5rXkrkR-7ww",
        "outputId": "17b3b16b-e007-47bc-ed54-b08d482bd8f2"
      },
      "outputs": [
        {
          "output_type": "stream",
          "name": "stdout",
          "text": [
            "Looking in indexes: https://pypi.org/simple, https://us-python.pkg.dev/colab-wheels/public/simple/\n",
            "Collecting git+https://github.com/jianfch/stable-ts.git\n",
            "  Cloning https://github.com/jianfch/stable-ts.git to /tmp/pip-req-build-y7wg_v06\n",
            "  Running command git clone --filter=blob:none --quiet https://github.com/jianfch/stable-ts.git /tmp/pip-req-build-y7wg_v06\n",
            "  Resolved https://github.com/jianfch/stable-ts.git to commit 8219e886f0aa3f15c60b8aacede509389557958c\n",
            "  Preparing metadata (setup.py) ... \u001b[?25l\u001b[?25hdone\n",
            "Collecting whisper@ git+https://github.com/openai/whisper.git\n",
            "  Cloning https://github.com/openai/whisper.git to /tmp/pip-install-f1yuz1d2/whisper_5b852c6f259341c3b22b7e141b64ab57\n",
            "  Running command git clone --filter=blob:none --quiet https://github.com/openai/whisper.git /tmp/pip-install-f1yuz1d2/whisper_5b852c6f259341c3b22b7e141b64ab57\n",
            "  Resolved https://github.com/openai/whisper.git to commit 28769fcfe50755a817ab922a7bc83483159600a9\n",
            "  Preparing metadata (setup.py) ... \u001b[?25l\u001b[?25hdone\n",
            "Requirement already satisfied: numpy in /usr/local/lib/python3.8/dist-packages (from whisper@ git+https://github.com/openai/whisper.git->stable-ts==1.0.1) (1.21.6)\n",
            "Requirement already satisfied: torch in /usr/local/lib/python3.8/dist-packages (from whisper@ git+https://github.com/openai/whisper.git->stable-ts==1.0.1) (1.13.0+cu116)\n",
            "Requirement already satisfied: tqdm in /usr/local/lib/python3.8/dist-packages (from whisper@ git+https://github.com/openai/whisper.git->stable-ts==1.0.1) (4.64.1)\n",
            "Requirement already satisfied: more-itertools in /usr/local/lib/python3.8/dist-packages (from whisper@ git+https://github.com/openai/whisper.git->stable-ts==1.0.1) (9.0.0)\n",
            "Collecting transformers>=4.19.0\n",
            "  Downloading transformers-4.25.1-py3-none-any.whl (5.8 MB)\n",
            "\u001b[2K     \u001b[90m━━━━━━━━━━━━━━━━━━━━━━━━━━━━━━━━━━━━━━━━\u001b[0m \u001b[32m5.8/5.8 MB\u001b[0m \u001b[31m92.1 MB/s\u001b[0m eta \u001b[36m0:00:00\u001b[0m\n",
            "\u001b[?25hCollecting ffmpeg-python==0.2.0\n",
            "  Downloading ffmpeg_python-0.2.0-py3-none-any.whl (25 kB)\n",
            "Requirement already satisfied: future in /usr/local/lib/python3.8/dist-packages (from ffmpeg-python==0.2.0->whisper@ git+https://github.com/openai/whisper.git->stable-ts==1.0.1) (0.16.0)\n",
            "Requirement already satisfied: filelock in /usr/local/lib/python3.8/dist-packages (from transformers>=4.19.0->whisper@ git+https://github.com/openai/whisper.git->stable-ts==1.0.1) (3.8.2)\n",
            "Requirement already satisfied: pyyaml>=5.1 in /usr/local/lib/python3.8/dist-packages (from transformers>=4.19.0->whisper@ git+https://github.com/openai/whisper.git->stable-ts==1.0.1) (6.0)\n",
            "Requirement already satisfied: requests in /usr/local/lib/python3.8/dist-packages (from transformers>=4.19.0->whisper@ git+https://github.com/openai/whisper.git->stable-ts==1.0.1) (2.25.1)\n",
            "Collecting huggingface-hub<1.0,>=0.10.0\n",
            "  Downloading huggingface_hub-0.11.1-py3-none-any.whl (182 kB)\n",
            "\u001b[2K     \u001b[90m━━━━━━━━━━━━━━━━━━━━━━━━━━━━━━━━━━━━━━\u001b[0m \u001b[32m182.4/182.4 KB\u001b[0m \u001b[31m25.4 MB/s\u001b[0m eta \u001b[36m0:00:00\u001b[0m\n",
            "\u001b[?25hRequirement already satisfied: packaging>=20.0 in /usr/local/lib/python3.8/dist-packages (from transformers>=4.19.0->whisper@ git+https://github.com/openai/whisper.git->stable-ts==1.0.1) (21.3)\n",
            "Collecting tokenizers!=0.11.3,<0.14,>=0.11.1\n",
            "  Downloading tokenizers-0.13.2-cp38-cp38-manylinux_2_17_x86_64.manylinux2014_x86_64.whl (7.6 MB)\n",
            "\u001b[2K     \u001b[90m━━━━━━━━━━━━━━━━━━━━━━━━━━━━━━━━━━━━━━━━\u001b[0m \u001b[32m7.6/7.6 MB\u001b[0m \u001b[31m58.9 MB/s\u001b[0m eta \u001b[36m0:00:00\u001b[0m\n",
            "\u001b[?25hRequirement already satisfied: regex!=2019.12.17 in /usr/local/lib/python3.8/dist-packages (from transformers>=4.19.0->whisper@ git+https://github.com/openai/whisper.git->stable-ts==1.0.1) (2022.6.2)\n",
            "Requirement already satisfied: typing-extensions in /usr/local/lib/python3.8/dist-packages (from torch->whisper@ git+https://github.com/openai/whisper.git->stable-ts==1.0.1) (4.4.0)\n",
            "Requirement already satisfied: pyparsing!=3.0.5,>=2.0.2 in /usr/local/lib/python3.8/dist-packages (from packaging>=20.0->transformers>=4.19.0->whisper@ git+https://github.com/openai/whisper.git->stable-ts==1.0.1) (3.0.9)\n",
            "Requirement already satisfied: certifi>=2017.4.17 in /usr/local/lib/python3.8/dist-packages (from requests->transformers>=4.19.0->whisper@ git+https://github.com/openai/whisper.git->stable-ts==1.0.1) (2022.12.7)\n",
            "Requirement already satisfied: idna<3,>=2.5 in /usr/local/lib/python3.8/dist-packages (from requests->transformers>=4.19.0->whisper@ git+https://github.com/openai/whisper.git->stable-ts==1.0.1) (2.10)\n",
            "Requirement already satisfied: chardet<5,>=3.0.2 in /usr/local/lib/python3.8/dist-packages (from requests->transformers>=4.19.0->whisper@ git+https://github.com/openai/whisper.git->stable-ts==1.0.1) (4.0.0)\n",
            "Requirement already satisfied: urllib3<1.27,>=1.21.1 in /usr/local/lib/python3.8/dist-packages (from requests->transformers>=4.19.0->whisper@ git+https://github.com/openai/whisper.git->stable-ts==1.0.1) (1.24.3)\n",
            "Building wheels for collected packages: stable-ts, whisper\n",
            "  Building wheel for stable-ts (setup.py) ... \u001b[?25l\u001b[?25hdone\n",
            "  Created wheel for stable-ts: filename=stable_ts-1.0.1-py3-none-any.whl size=24828 sha256=8a70ad4c0047ccb2271da43275b2b6505cd0bd66556fbeaa0a7d5f4008441a05\n",
            "  Stored in directory: /tmp/pip-ephem-wheel-cache-ql7ojyku/wheels/dc/32/53/6df0cba857db22e5c429c0de906a0e8f6440d249c719e0f88f\n",
            "  Building wheel for whisper (setup.py) ... \u001b[?25l\u001b[?25hdone\n",
            "  Created wheel for whisper: filename=whisper-1.0-py3-none-any.whl size=1175340 sha256=00cd29539be0213510655a13f383c48456af375c1dbdfb502fe5662f62155c2c\n",
            "  Stored in directory: /tmp/pip-ephem-wheel-cache-ql7ojyku/wheels/a7/70/18/b7693c07b1d18b3dafb328f5d0496aa0d41a9c09ef332fd8e6\n",
            "Successfully built stable-ts whisper\n",
            "Installing collected packages: tokenizers, ffmpeg-python, huggingface-hub, transformers, whisper, stable-ts\n",
            "Successfully installed ffmpeg-python-0.2.0 huggingface-hub-0.11.1 stable-ts-1.0.1 tokenizers-0.13.2 transformers-4.25.1 whisper-1.0\n",
            "Looking in indexes: https://pypi.org/simple, https://us-python.pkg.dev/colab-wheels/public/simple/\n",
            "Collecting pytube\n",
            "  Downloading pytube-12.1.2-py3-none-any.whl (57 kB)\n",
            "\u001b[2K     \u001b[90m━━━━━━━━━━━━━━━━━━━━━━━━━━━━━━━━━━━━━━━━\u001b[0m \u001b[32m57.0/57.0 KB\u001b[0m \u001b[31m6.3 MB/s\u001b[0m eta \u001b[36m0:00:00\u001b[0m\n",
            "\u001b[?25hInstalling collected packages: pytube\n",
            "Successfully installed pytube-12.1.2\n"
          ]
        }
      ],
      "source": [
        "!pip install git+https://github.com/jianfch/stable-ts.git\n",
        "!pip install pytube"
      ]
    },
    {
      "cell_type": "code",
      "source": [
        "from google.colab import drive\n",
        "drive.mount('/content/gdrive')\n",
        "\n",
        "\n",
        "gdrive_path = '/content/gdrive/My Drive/video_shortner'"
      ],
      "metadata": {
        "id": "zqFdeOzonist",
        "colab": {
          "base_uri": "https://localhost:8080/"
        },
        "outputId": "572568a9-13b1-485a-d58a-3aa8598801bb"
      },
      "execution_count": null,
      "outputs": [
        {
          "output_type": "stream",
          "name": "stdout",
          "text": [
            "Mounted at /content/gdrive\n"
          ]
        }
      ]
    },
    {
      "cell_type": "markdown",
      "source": [
        "## Download mp3 for transcription"
      ],
      "metadata": {
        "id": "Ol0BhivJa0WA"
      }
    },
    {
      "cell_type": "code",
      "source": [
        "from pytube import YouTube  # !pip install pytube\n",
        "from pytube.exceptions import RegexMatchError\n",
        "from tqdm.auto import tqdm  # !pip install tqdm\n",
        "\n",
        "# where to save\n",
        "save_path = f\"{gdrive_path}/mp3\"\n",
        "vids = ['APvj15_YCqk']\n",
        "\n",
        "for vid in vids:\n",
        "    # url of video to be downloaded\n",
        "  url = f\"https://youtu.be/{vid}\"\n",
        "\n",
        "  # try to create a YouTube vid object\n",
        "  yt = YouTube(url)\n",
        "\n",
        "  itag = None\n",
        "  # we only want audio files\n",
        "  files = yt.streams.filter(only_audio=True)\n",
        "  for file in files:\n",
        "      # from audio files we grab the first audio for mp4 (eg mp3)\n",
        "      if file.mime_type == 'audio/mp4':\n",
        "          itag = file.itag\n",
        "          break\n",
        "  if itag is None:\n",
        "      # just incase no MP3 audio is found (shouldn't happen)\n",
        "      print(\"NO MP3 AUDIO FOUND\")\n",
        "  else:\n",
        "      # get the correct mp3 'stream'\n",
        "      stream = yt.streams.get_by_itag(itag)\n",
        "      # downloading the audio\n",
        "      stream.download(\n",
        "          output_path=save_path,\n",
        "          filename=f\"{vid}.mp3\"\n",
        "      )"
      ],
      "metadata": {
        "id": "BY2c_eCe_xmr"
      },
      "execution_count": null,
      "outputs": []
    },
    {
      "cell_type": "markdown",
      "source": [
        "## Load whisper model"
      ],
      "metadata": {
        "id": "-sIIfpeybDU7"
      }
    },
    {
      "cell_type": "code",
      "source": [
        "from stable_whisper import load_model\n",
        "import torch  # install steps: pytorch.org\n",
        "\n",
        "device = \"cuda\" if torch.cuda.is_available() else \"cpu\"\n",
        "\n",
        "model = load_model(\"large\").to(device)"
      ],
      "metadata": {
        "colab": {
          "base_uri": "https://localhost:8080/"
        },
        "id": "sk3nzskXBOAT",
        "outputId": "ccc6199b-297c-42db-f78e-6d36c876198d"
      },
      "execution_count": null,
      "outputs": [
        {
          "output_type": "stream",
          "name": "stderr",
          "text": [
            "100%|██████████████████████████████████████| 2.87G/2.87G [00:23<00:00, 129MiB/s]\n"
          ]
        }
      ]
    },
    {
      "cell_type": "code",
      "source": [
        "device"
      ],
      "metadata": {
        "colab": {
          "base_uri": "https://localhost:8080/",
          "height": 35
        },
        "id": "MFOkHEOABzfP",
        "outputId": "0e8d875e-92d0-4170-97ed-beca87183f86"
      },
      "execution_count": null,
      "outputs": [
        {
          "output_type": "execute_result",
          "data": {
            "text/plain": [
              "'cuda'"
            ],
            "application/vnd.google.colaboratory.intrinsic+json": {
              "type": "string"
            }
          },
          "metadata": {},
          "execution_count": 5
        }
      ]
    },
    {
      "cell_type": "markdown",
      "source": [
        "## Load mp3 file"
      ],
      "metadata": {
        "id": "FMQOXyvzbNCi"
      }
    },
    {
      "cell_type": "code",
      "source": [
        "import glob\n",
        "\n",
        "# get list of MP3 audio files\n",
        "paths = [glob.glob(f'{save_path}/{vid}.mp3')[0] for vid in vids]\n",
        "print(len(paths))\n",
        "print(paths[:5])\n"
      ],
      "metadata": {
        "colab": {
          "base_uri": "https://localhost:8080/"
        },
        "id": "zV-_iVG8CE5d",
        "outputId": "ce604596-e81d-405f-cd07-c8188fc55a09"
      },
      "execution_count": null,
      "outputs": [
        {
          "output_type": "stream",
          "name": "stdout",
          "text": [
            "1\n",
            "['/content/gdrive/My Drive/video_shortner/mp3/APvj15_YCqk.mp3']\n"
          ]
        }
      ]
    },
    {
      "cell_type": "markdown",
      "source": [
        "## Transcribe"
      ],
      "metadata": {
        "id": "lxZh5SvzbRUn"
      }
    },
    {
      "cell_type": "code",
      "source": [
        "data = {}\n",
        "for i, path in enumerate(tqdm(paths)):\n",
        "    _id = path.split('/')[-1][:-4]\n",
        "    data[_id] = []\n",
        "    # transcribe to get speech-to-text data\n",
        "    result = model.transcribe(path)\n",
        "    segments = result['segments']\n",
        "    # get the video metadata...\n",
        "    for segment in segments:\n",
        "        # merge segments data and videos_meta data\n",
        "        meta = {\n",
        "                \"text\": segment[\"text\"].strip(),\n",
        "                \"start\": segment['start'],\n",
        "                \"duration\": segment['end']-segment['start'],\n",
        "        }\n",
        "        data[_id].append(meta)"
      ],
      "metadata": {
        "colab": {
          "base_uri": "https://localhost:8080/",
          "height": 67,
          "referenced_widgets": [
            "3940d88eee9f4cbd9ec1faaaefeca0c6",
            "53128e2d08714192b0b36e949c25f4c3",
            "7131c4db7741449e877ce9ce61399bc7",
            "964f827bef9c4d4a9edd5b915818bad6",
            "87b4d308740a45d3a3ab177e0cd33c7a",
            "4ed2904b8e7745b080685ab47fa5e04d",
            "0e52ebfd0e174787b54402985503aa79",
            "0ba0e673d8744f249f05c8df1434d4e6",
            "ba53522289cd49d98a43c83f160a9929",
            "77fc838427c84414958d79b092530ba4",
            "9edd8782b02f467793015381cf15e09f"
          ]
        },
        "id": "2UaDf7GrCLWl",
        "outputId": "423bbdc8-f437-4bbf-dbb1-d84cc78c04ef"
      },
      "execution_count": null,
      "outputs": [
        {
          "output_type": "display_data",
          "data": {
            "text/plain": [
              "  0%|          | 0/1 [00:00<?, ?it/s]"
            ],
            "application/vnd.jupyter.widget-view+json": {
              "version_major": 2,
              "version_minor": 0,
              "model_id": "3940d88eee9f4cbd9ec1faaaefeca0c6"
            }
          },
          "metadata": {}
        },
        {
          "output_type": "stream",
          "name": "stdout",
          "text": [
            "Detected language: english\n"
          ]
        }
      ]
    },
    {
      "cell_type": "markdown",
      "source": [
        "## Save transcription"
      ],
      "metadata": {
        "id": "THUSW8KsbV_8"
      }
    },
    {
      "cell_type": "code",
      "source": [
        "import json\n",
        "for vid in vids:\n",
        "  with open(f\"{gdrive_path}/transcripts/whisper_transcript_{vid}.txt\",'w') as f:\n",
        "    json.dump(data[vid],f,indent=4)"
      ],
      "metadata": {
        "id": "n-4YQDe2DRPX"
      },
      "execution_count": null,
      "outputs": []
    },
    {
      "cell_type": "code",
      "source": [],
      "metadata": {
        "id": "O-w2iqeWK78L"
      },
      "execution_count": null,
      "outputs": []
    }
  ]
}